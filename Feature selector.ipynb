{
 "cells": [
  {
   "cell_type": "code",
   "execution_count": 1,
   "metadata": {},
   "outputs": [],
   "source": [
    "import matplotlib.pyplot as plt\n",
    "import pandas as pd\n",
    "import numpy as np\n",
    "\n",
    "from sklearn import preprocessing\n",
    "from sklearn.model_selection import train_test_split\n",
    "from sklearn.metrics import f1_score\n",
    "\n",
    "import seaborn as sns"
   ]
  },
  {
   "cell_type": "code",
   "execution_count": 5,
   "metadata": {},
   "outputs": [],
   "source": [
    "data = pd.read_excel(\"Data/train.xlsx\")\n",
    "test = pd.read_excel(\"Data/test.xlsx\")"
   ]
  },
  {
   "cell_type": "code",
   "execution_count": 22,
   "metadata": {},
   "outputs": [],
   "source": [
    "test = pd.read_excel(\"Data/test.xlsx\")"
   ]
  },
  {
   "cell_type": "code",
   "execution_count": 21,
   "metadata": {},
   "outputs": [
    {
     "data": {
      "text/html": [
       "<div>\n",
       "<style scoped>\n",
       "    .dataframe tbody tr th:only-of-type {\n",
       "        vertical-align: middle;\n",
       "    }\n",
       "\n",
       "    .dataframe tbody tr th {\n",
       "        vertical-align: top;\n",
       "    }\n",
       "\n",
       "    .dataframe thead th {\n",
       "        text-align: right;\n",
       "    }\n",
       "</style>\n",
       "<table border=\"1\" class=\"dataframe\">\n",
       "  <thead>\n",
       "    <tr style=\"text-align: right;\">\n",
       "      <th></th>\n",
       "      <th>well id</th>\n",
       "      <th>depth, m</th>\n",
       "      <th>bk</th>\n",
       "      <th>GZ1</th>\n",
       "      <th>GZ2</th>\n",
       "      <th>GZ3</th>\n",
       "      <th>GZ4</th>\n",
       "      <th>GZ5</th>\n",
       "      <th>GZ7</th>\n",
       "      <th>DGK</th>\n",
       "      <th>NKTD</th>\n",
       "      <th>NKTM</th>\n",
       "      <th>NKTR</th>\n",
       "      <th>ALPS</th>\n",
       "      <th>lith</th>\n",
       "      <th>goal</th>\n",
       "    </tr>\n",
       "  </thead>\n",
       "  <tbody>\n",
       "    <tr>\n",
       "      <th>0</th>\n",
       "      <td>12.0</td>\n",
       "      <td>3042.4630</td>\n",
       "      <td>0.455779</td>\n",
       "      <td>0.774000</td>\n",
       "      <td>0.774000</td>\n",
       "      <td>0.332846</td>\n",
       "      <td>0.476545</td>\n",
       "      <td>0.774000</td>\n",
       "      <td>0.244898</td>\n",
       "      <td>0.123651</td>\n",
       "      <td>0.774000</td>\n",
       "      <td>0.799167</td>\n",
       "      <td>0.174639</td>\n",
       "      <td>0.727789</td>\n",
       "      <td>NK</td>\n",
       "      <td>0.0</td>\n",
       "    </tr>\n",
       "    <tr>\n",
       "      <th>1</th>\n",
       "      <td>33.0</td>\n",
       "      <td>2412.8305</td>\n",
       "      <td>-1.000000</td>\n",
       "      <td>0.157153</td>\n",
       "      <td>0.755472</td>\n",
       "      <td>0.453216</td>\n",
       "      <td>0.715147</td>\n",
       "      <td>-1.000000</td>\n",
       "      <td>0.523432</td>\n",
       "      <td>0.388729</td>\n",
       "      <td>0.519233</td>\n",
       "      <td>0.799167</td>\n",
       "      <td>0.563573</td>\n",
       "      <td>0.111216</td>\n",
       "      <td>ARGILLIT</td>\n",
       "      <td>0.0</td>\n",
       "    </tr>\n",
       "    <tr>\n",
       "      <th>2</th>\n",
       "      <td>33.0</td>\n",
       "      <td>2522.5575</td>\n",
       "      <td>-1.000000</td>\n",
       "      <td>0.172235</td>\n",
       "      <td>0.941742</td>\n",
       "      <td>0.525711</td>\n",
       "      <td>0.668600</td>\n",
       "      <td>-1.000000</td>\n",
       "      <td>0.588924</td>\n",
       "      <td>0.515214</td>\n",
       "      <td>0.527139</td>\n",
       "      <td>0.799167</td>\n",
       "      <td>0.551152</td>\n",
       "      <td>0.172359</td>\n",
       "      <td>ARGILLIT</td>\n",
       "      <td>0.0</td>\n",
       "    </tr>\n",
       "    <tr>\n",
       "      <th>3</th>\n",
       "      <td>49.0</td>\n",
       "      <td>2396.3625</td>\n",
       "      <td>0.381248</td>\n",
       "      <td>0.246838</td>\n",
       "      <td>0.116913</td>\n",
       "      <td>0.732654</td>\n",
       "      <td>0.151299</td>\n",
       "      <td>0.165219</td>\n",
       "      <td>0.656955</td>\n",
       "      <td>0.445917</td>\n",
       "      <td>0.575175</td>\n",
       "      <td>0.799167</td>\n",
       "      <td>0.429433</td>\n",
       "      <td>0.253563</td>\n",
       "      <td>ARGILLIT</td>\n",
       "      <td>0.0</td>\n",
       "    </tr>\n",
       "    <tr>\n",
       "      <th>4</th>\n",
       "      <td>49.0</td>\n",
       "      <td>2399.0475</td>\n",
       "      <td>0.356867</td>\n",
       "      <td>0.226241</td>\n",
       "      <td>0.155473</td>\n",
       "      <td>0.613300</td>\n",
       "      <td>0.173949</td>\n",
       "      <td>0.297194</td>\n",
       "      <td>0.773218</td>\n",
       "      <td>0.392743</td>\n",
       "      <td>0.575725</td>\n",
       "      <td>0.799167</td>\n",
       "      <td>0.447169</td>\n",
       "      <td>0.959633</td>\n",
       "      <td>ARGILLIT</td>\n",
       "      <td>0.0</td>\n",
       "    </tr>\n",
       "    <tr>\n",
       "      <th>...</th>\n",
       "      <td>...</td>\n",
       "      <td>...</td>\n",
       "      <td>...</td>\n",
       "      <td>...</td>\n",
       "      <td>...</td>\n",
       "      <td>...</td>\n",
       "      <td>...</td>\n",
       "      <td>...</td>\n",
       "      <td>...</td>\n",
       "      <td>...</td>\n",
       "      <td>...</td>\n",
       "      <td>...</td>\n",
       "      <td>...</td>\n",
       "      <td>...</td>\n",
       "      <td>...</td>\n",
       "      <td>...</td>\n",
       "    </tr>\n",
       "    <tr>\n",
       "      <th>465091</th>\n",
       "      <td>287.0</td>\n",
       "      <td>2217.3625</td>\n",
       "      <td>-1.000000</td>\n",
       "      <td>0.213477</td>\n",
       "      <td>0.121747</td>\n",
       "      <td>-1.000000</td>\n",
       "      <td>-1.000000</td>\n",
       "      <td>-1.000000</td>\n",
       "      <td>-1.000000</td>\n",
       "      <td>-1.000000</td>\n",
       "      <td>0.442153</td>\n",
       "      <td>-1.000000</td>\n",
       "      <td>-1.000000</td>\n",
       "      <td>0.712853</td>\n",
       "      <td>ARGILLIT</td>\n",
       "      <td>0.0</td>\n",
       "    </tr>\n",
       "    <tr>\n",
       "      <th>465092</th>\n",
       "      <td>287.0</td>\n",
       "      <td>2217.4520</td>\n",
       "      <td>-1.000000</td>\n",
       "      <td>0.215987</td>\n",
       "      <td>0.122570</td>\n",
       "      <td>-1.000000</td>\n",
       "      <td>-1.000000</td>\n",
       "      <td>-1.000000</td>\n",
       "      <td>-1.000000</td>\n",
       "      <td>-1.000000</td>\n",
       "      <td>0.444390</td>\n",
       "      <td>-1.000000</td>\n",
       "      <td>-1.000000</td>\n",
       "      <td>0.676591</td>\n",
       "      <td>ARGILLIT</td>\n",
       "      <td>0.0</td>\n",
       "    </tr>\n",
       "    <tr>\n",
       "      <th>465093</th>\n",
       "      <td>287.0</td>\n",
       "      <td>2217.5415</td>\n",
       "      <td>-1.000000</td>\n",
       "      <td>0.215987</td>\n",
       "      <td>0.119374</td>\n",
       "      <td>-1.000000</td>\n",
       "      <td>-1.000000</td>\n",
       "      <td>-1.000000</td>\n",
       "      <td>-1.000000</td>\n",
       "      <td>-1.000000</td>\n",
       "      <td>0.445926</td>\n",
       "      <td>-1.000000</td>\n",
       "      <td>-1.000000</td>\n",
       "      <td>0.718157</td>\n",
       "      <td>ARGILLIT</td>\n",
       "      <td>0.0</td>\n",
       "    </tr>\n",
       "    <tr>\n",
       "      <th>465094</th>\n",
       "      <td>287.0</td>\n",
       "      <td>2217.6310</td>\n",
       "      <td>-1.000000</td>\n",
       "      <td>0.215987</td>\n",
       "      <td>0.118723</td>\n",
       "      <td>-1.000000</td>\n",
       "      <td>-1.000000</td>\n",
       "      <td>-1.000000</td>\n",
       "      <td>-1.000000</td>\n",
       "      <td>-1.000000</td>\n",
       "      <td>0.447813</td>\n",
       "      <td>-1.000000</td>\n",
       "      <td>-1.000000</td>\n",
       "      <td>0.759722</td>\n",
       "      <td>ARGILLIT</td>\n",
       "      <td>0.0</td>\n",
       "    </tr>\n",
       "    <tr>\n",
       "      <th>465095</th>\n",
       "      <td>287.0</td>\n",
       "      <td>2217.7205</td>\n",
       "      <td>-1.000000</td>\n",
       "      <td>0.215987</td>\n",
       "      <td>0.119846</td>\n",
       "      <td>-1.000000</td>\n",
       "      <td>-1.000000</td>\n",
       "      <td>-1.000000</td>\n",
       "      <td>-1.000000</td>\n",
       "      <td>-1.000000</td>\n",
       "      <td>0.444275</td>\n",
       "      <td>-1.000000</td>\n",
       "      <td>-1.000000</td>\n",
       "      <td>0.744115</td>\n",
       "      <td>ARGILLIT</td>\n",
       "      <td>0.0</td>\n",
       "    </tr>\n",
       "  </tbody>\n",
       "</table>\n",
       "<p>463897 rows × 16 columns</p>\n",
       "</div>"
      ],
      "text/plain": [
       "        well id   depth, m        bk       GZ1       GZ2       GZ3       GZ4  \\\n",
       "0          12.0  3042.4630  0.455779  0.774000  0.774000  0.332846  0.476545   \n",
       "1          33.0  2412.8305 -1.000000  0.157153  0.755472  0.453216  0.715147   \n",
       "2          33.0  2522.5575 -1.000000  0.172235  0.941742  0.525711  0.668600   \n",
       "3          49.0  2396.3625  0.381248  0.246838  0.116913  0.732654  0.151299   \n",
       "4          49.0  2399.0475  0.356867  0.226241  0.155473  0.613300  0.173949   \n",
       "...         ...        ...       ...       ...       ...       ...       ...   \n",
       "465091    287.0  2217.3625 -1.000000  0.213477  0.121747 -1.000000 -1.000000   \n",
       "465092    287.0  2217.4520 -1.000000  0.215987  0.122570 -1.000000 -1.000000   \n",
       "465093    287.0  2217.5415 -1.000000  0.215987  0.119374 -1.000000 -1.000000   \n",
       "465094    287.0  2217.6310 -1.000000  0.215987  0.118723 -1.000000 -1.000000   \n",
       "465095    287.0  2217.7205 -1.000000  0.215987  0.119846 -1.000000 -1.000000   \n",
       "\n",
       "             GZ5       GZ7       DGK      NKTD      NKTM      NKTR      ALPS  \\\n",
       "0       0.774000  0.244898  0.123651  0.774000  0.799167  0.174639  0.727789   \n",
       "1      -1.000000  0.523432  0.388729  0.519233  0.799167  0.563573  0.111216   \n",
       "2      -1.000000  0.588924  0.515214  0.527139  0.799167  0.551152  0.172359   \n",
       "3       0.165219  0.656955  0.445917  0.575175  0.799167  0.429433  0.253563   \n",
       "4       0.297194  0.773218  0.392743  0.575725  0.799167  0.447169  0.959633   \n",
       "...          ...       ...       ...       ...       ...       ...       ...   \n",
       "465091 -1.000000 -1.000000 -1.000000  0.442153 -1.000000 -1.000000  0.712853   \n",
       "465092 -1.000000 -1.000000 -1.000000  0.444390 -1.000000 -1.000000  0.676591   \n",
       "465093 -1.000000 -1.000000 -1.000000  0.445926 -1.000000 -1.000000  0.718157   \n",
       "465094 -1.000000 -1.000000 -1.000000  0.447813 -1.000000 -1.000000  0.759722   \n",
       "465095 -1.000000 -1.000000 -1.000000  0.444275 -1.000000 -1.000000  0.744115   \n",
       "\n",
       "            lith  goal  \n",
       "0             NK   0.0  \n",
       "1       ARGILLIT   0.0  \n",
       "2       ARGILLIT   0.0  \n",
       "3       ARGILLIT   0.0  \n",
       "4       ARGILLIT   0.0  \n",
       "...          ...   ...  \n",
       "465091  ARGILLIT   0.0  \n",
       "465092  ARGILLIT   0.0  \n",
       "465093  ARGILLIT   0.0  \n",
       "465094  ARGILLIT   0.0  \n",
       "465095  ARGILLIT   0.0  \n",
       "\n",
       "[463897 rows x 16 columns]"
      ]
     },
     "execution_count": 21,
     "metadata": {},
     "output_type": "execute_result"
    }
   ],
   "source": [
    "data"
   ]
  },
  {
   "cell_type": "code",
   "execution_count": 12,
   "metadata": {},
   "outputs": [],
   "source": [
    "data = data[np.isnan(data[\"well id\"]) != True]\n",
    "data = data[np.isnan(data[\"goal\"]) != True]"
   ]
  },
  {
   "cell_type": "code",
   "execution_count": 13,
   "metadata": {},
   "outputs": [],
   "source": [
    "data = data.fillna(-1)\n",
    "delta = 200"
   ]
  },
  {
   "cell_type": "code",
   "execution_count": 19,
   "metadata": {},
   "outputs": [],
   "source": [
    "ALL_SENSORS = ['bk', 'GZ1', 'GZ2', 'GZ3', 'GZ4', 'GZ5', 'GZ7', 'DGK', 'NKTD', 'NKTM', 'NKTR', 'ALPS']\n",
    "sensors_cost = {\n",
    "    \"bk\" : 2450,\n",
    "    \"GZ1\" : 2050,\n",
    "    \"GZ2\" : 2050,\n",
    "    \"GZ3\" : 2050,\n",
    "    \"GZ4\" : 2050,\n",
    "    \"GZ5\" : 2050,\n",
    "    \"GZ7\" : 2050,\n",
    "    \"DGK\" : 1300,\n",
    "    \"NKTD\" : 2050,\n",
    "    \"NKTM\" : 2050,\n",
    "    \"NKTR\" : 2050,\n",
    "    \"ALPS\" : 1150\n",
    "}"
   ]
  },
  {
   "cell_type": "code",
   "execution_count": 10,
   "metadata": {},
   "outputs": [],
   "source": [
    "#df = data[(data[\"depth, m\"] > min_depth) & (data[\"depth, m\"] < min_depth + delta)]\n",
    "    \n",
    "target = df[\"goal\"]\n",
    "train = df.drop(\"goal\", axis = 1)\n",
    "train = train.drop(\"lith\", axis = 1)\n",
    "train = train.drop(\"well id\", axis = 1)"
   ]
  },
  {
   "cell_type": "code",
   "execution_count": 14,
   "metadata": {},
   "outputs": [
    {
     "name": "stdout",
     "output_type": "stream",
     "text": [
      "0.9251379038613081\n",
      "0.8781742205078753\n",
      "0.8229448961156278\n",
      "0.8218773096821876\n",
      "0.8776758409785933\n",
      "0.8613496932515338\n",
      "0.8176308539944903\n",
      "0.8346055979643767\n",
      "0.8328530259365996\n",
      "0.7728107777097367\n",
      "0.701397326852977\n",
      "0.7026184538653368\n",
      "0.7265235306874865\n",
      "0.7213015968665262\n",
      "0.6985455269974099\n",
      "0.6901054746358615\n",
      "0.672909129602043\n",
      "0.6852996506315507\n",
      "0.6311858076563959\n",
      "0.6154960173787111\n",
      "0.8263888888888888\n",
      "0.736842105263158\n"
     ]
    }
   ],
   "source": [
    "features = list()\n",
    "for min_depth in range(1000, int(max(data[\"depth, m\"])), 100):\n",
    "    df = data[(data[\"depth, m\"] > min_depth) & (data[\"depth, m\"] < min_depth + delta)]\n",
    "    \n",
    "    target = df[\"goal\"]\n",
    "    train = df.drop(\"goal\", axis = 1)\n",
    "    train = train.drop(\"lith\", axis = 1)\n",
    "    train = train.drop(\"well id\", axis = 1)\n",
    "\n",
    "    X_train, X_test, y_train, y_test = train_test_split(train, target, test_size = 0.33)\n",
    "\n",
    "    scaler = preprocessing.StandardScaler()\n",
    "    scaler.fit(X_train)\n",
    "\n",
    "    X_train = scaler.transform(X_train)\n",
    "    X_test = scaler.transform(X_test)\n",
    "\n",
    "    from sklearn.ensemble import GradientBoostingClassifier\n",
    "    clf = GradientBoostingClassifier(n_estimators=200)\n",
    "    clf = clf.fit(X_train, y_train)\n",
    "\n",
    "    data_outputs = clf.predict(X_test)\n",
    "\n",
    "    importances = clf.feature_importances_\n",
    "    \n",
    "    features.append(importances[1:])\n",
    "    \n",
    "\n",
    "    print(f1_score(y_test, data_outputs))\n",
    "    \n",
    "features = np.array(features)"
   ]
  },
  {
   "cell_type": "code",
   "execution_count": 15,
   "metadata": {},
   "outputs": [
    {
     "data": {
      "text/plain": [
       "array([0.67341928, 0.        , 0.        , 0.        , 0.        ,\n",
       "       0.        , 0.        , 0.        , 0.        , 0.16671823,\n",
       "       0.0555467 , 0.04748008, 0.05683572])"
      ]
     },
     "execution_count": 15,
     "metadata": {},
     "output_type": "execute_result"
    }
   ],
   "source": [
    "clf.feature_importances_"
   ]
  },
  {
   "cell_type": "code",
   "execution_count": 76,
   "metadata": {},
   "outputs": [
    {
     "data": {
      "text/plain": [
       "<matplotlib.axes._subplots.AxesSubplot at 0x130ddbe50>"
      ]
     },
     "execution_count": 76,
     "metadata": {},
     "output_type": "execute_result"
    },
    {
     "data": {
      "image/png": "[encoded data removed]",
      "text/plain": [
       "<Figure size 1440x432 with 2 Axes>"
      ]
     },
     "metadata": {
      "needs_background": "light"
     },
     "output_type": "display_data"
    }
   ],
   "source": [
    "plt.figure(figsize = (20, 6))\n",
    "sns.heatmap(features, xticklabels = df.columns[2:-2])"
   ]
  },
  {
   "cell_type": "code",
   "execution_count": 55,
   "metadata": {},
   "outputs": [],
   "source": [
    "usable = train.columns[indices[-7:]]"
   ]
  },
  {
   "cell_type": "code",
   "execution_count": 32,
   "metadata": {},
   "outputs": [
    {
     "data": {
      "text/plain": [
       "Index(['GZ2', 'NKTD', 'NKTR', 'NKTM', 'GZ5', 'GZ7', 'GZ4'], dtype='object')"
      ]
     },
     "execution_count": 32,
     "metadata": {},
     "output_type": "execute_result"
    }
   ],
   "source": [
    "usable"
   ]
  },
  {
   "cell_type": "code",
   "execution_count": 35,
   "metadata": {},
   "outputs": [],
   "source": [
    "for par in usable:\n",
    "    data = data.drop(par, axis = 1)"
   ]
  },
  {
   "cell_type": "code",
   "execution_count": 44,
   "metadata": {},
   "outputs": [
    {
     "name": "stdout",
     "output_type": "stream",
     "text": [
      "Accuracy: 0.91 (+/- 0.00)\n"
     ]
    }
   ],
   "source": [
    "from sklearn.model_selection import cross_val_score\n",
    "scores = cross_val_score(clf, X_test, y_test, cv=5)\n",
    "print(\"Accuracy: %0.2f (+/- %0.2f)\" % (scores.mean(), scores.std() * 2))"
   ]
  },
  {
   "cell_type": "code",
   "execution_count": 89,
   "metadata": {},
   "outputs": [],
   "source": [
    "from sklearn.ensemble import GradientBoostingClassifier\n",
    "\n",
    "\n",
    "class BagOfBoostings:\n",
    "    def __init__(self, delta = 300, n_estimators = 200, test_size = 0.2):  \n",
    "        self.delta = delta\n",
    "        self.n_estimators = n_estimators\n",
    "        self.test_size = test_size\n",
    "        \n",
    "    def split(self, df):\n",
    "        wells = list(pd.unique(df['well id']))\n",
    "        target = df[[\"goal\", 'well id']]\n",
    "        #target2\n",
    "        train = df.drop([\"goal\", 'lith'], axis = 1)\n",
    "        #train = train.drop(\"well id\", axis = 1)\n",
    "        train_well, test_well = train_test_split(wells , test_size = self.test_size, random_state = 42)\n",
    "        X_train = train[train['well id'].isin(train_well)].drop(\"well id\", axis = 1)\n",
    "        X_test = train[train['well id'].isin(test_well)].drop(\"well id\", axis = 1)\n",
    "        Y_train = target[target['well id'].isin(train_well)].drop(\"well id\", axis = 1)\n",
    "        Y_test = target[target['well id'].isin(test_well)].drop(\"well id\", axis = 1)\n",
    "        return X_train, X_test, Y_train, Y_test, len(test_well), train, target['goal']\n",
    "    \n",
    "    def fit(self, data):\n",
    "        self.data = data\n",
    "    \n",
    "    def predict(self, to_predict): # по одной скважине! \n",
    "        data = self.data\n",
    "        min_range = min(to_predict[\"depth, m\"])\n",
    "        max_range = max(to_predict[\"depth, m\"])\n",
    "        result = []\n",
    "        for min_depth in range(int(min_range), int(max_range), self.delta):\n",
    "            df = data[(data[\"depth, m\"] > min_depth) & (data[\"depth, m\"] < min_depth + 10)] #alarm\n",
    "            X_train, X_test, y_train, y_test, len_test, X, Y = self.split(df)\n",
    "            clf = GradientBoostingClassifier(n_estimators=self.n_estimators)\n",
    "            clf = clf.fit(X, Y) #да, фитим на всех данных, чтобы правильно оценить важность фичей\n",
    "            f_importances = list(zip(train.columns, clf.feature_importances_))\n",
    "            f_importances = sorted(f_importances, key=lambda tup: tup[1])[::-1]\n",
    "            taken_features = [\"depth, m\"]\n",
    "            prev_profit = -10000000000\n",
    "            cost = 0\n",
    "            for feature, _ in f_importances:\n",
    "                taken_features.append(feature)\n",
    "                tmp_clf = GradientBoostingClassifier(n_estimators=self.n_estimators)\n",
    "                tmp_clf = tmp_clf.fit(X_train[taken_features], y_train)\n",
    "                data_outputs = pd.Series(tmp_clf.predict(X_test[taken_features]))\n",
    "                cost += self.delta * sensors_cost[feature] * len_test # сколько потратим на все скважины, почини\n",
    "                func = lambda x: 4.15 * 0.7 * sum(x) * 0.085 * 100 * 860 - cost\n",
    "                print(data_outputs, y_test)\n",
    "                money = func(data_outputs * y_test) #смотрим, сколько по факту заработаем\n",
    "                if prev_profit < money:\n",
    "                    prev_profit = money\n",
    "                else:\n",
    "                    taken_features = taken_features[:-1] #выбрасываем ненужную фичу\n",
    "                    break\n",
    "            tmp_clf = GradientBoostingClassifier(n_estimators=self.n_estimators)\n",
    "            tmp_clf = tmp_clf.fit(X_train[taken_features], y_train)\n",
    "            data_outputs = pd.DataFrame(tmp_clf.predict(X_test[taken_features]))\n",
    "            print(f1_score(y_test, data_outputs))\n",
    "            tmp = func(y_test) - func(data_outputs)\n",
    "            clf = GradientBoostingClassifier(n_estimators=self.n_estimators)\n",
    "            clf = clf.fit(X[taken_features], Y)\n",
    "            result.append((pd.DataFrame(clf.predict(to_predict[taken_features])), tmp))\n",
    "        return result\n",
    "        \n",
    "        "
   ]
  },
  {
   "cell_type": "code",
   "execution_count": 90,
   "metadata": {},
   "outputs": [],
   "source": [
    "model = BagOfBoostings()\n",
    "model.fit(data)"
   ]
  },
  {
   "cell_type": "code",
   "execution_count": 91,
   "metadata": {},
   "outputs": [
    {
     "name": "stderr",
     "output_type": "stream",
     "text": [
      "D:\\anaconda\\lib\\site-packages\\sklearn\\ensemble\\_gb.py:1454: DataConversionWarning: A column-vector y was passed when a 1d array was expected. Please change the shape of y to (n_samples, ), for example using ravel().\n",
      "  y = column_or_1d(y, warn=True)\n"
     ]
    },
    {
     "name": "stdout",
     "output_type": "stream",
     "text": [
      "0       0.0\n",
      "1       0.0\n",
      "2       0.0\n",
      "3       0.0\n",
      "4       0.0\n",
      "       ... \n",
      "1173    0.0\n",
      "1174    0.0\n",
      "1175    0.0\n",
      "1176    0.0\n",
      "1177    0.0\n",
      "Length: 1178, dtype: float64         goal\n",
      "28       0.0\n",
      "349      0.0\n",
      "377      0.0\n",
      "793      0.0\n",
      "794      0.0\n",
      "...      ...\n",
      "384216   0.0\n",
      "384217   0.0\n",
      "384218   0.0\n",
      "384219   0.0\n",
      "384220   0.0\n",
      "\n",
      "[1178 rows x 1 columns]\n"
     ]
    },
    {
     "ename": "TypeError",
     "evalue": "unsupported operand type(s) for +: 'int' and 'str'",
     "output_type": "error",
     "traceback": [
      "\u001b[1;31m---------------------------------------------------------------------------\u001b[0m",
      "\u001b[1;31mTypeError\u001b[0m                                 Traceback (most recent call last)",
      "\u001b[1;32m<ipython-input-91-4b3e0c27e1d8>\u001b[0m in \u001b[0;36m<module>\u001b[1;34m\u001b[0m\n\u001b[1;32m----> 1\u001b[1;33m \u001b[0mololo\u001b[0m \u001b[1;33m=\u001b[0m \u001b[0mmodel\u001b[0m\u001b[1;33m.\u001b[0m\u001b[0mpredict\u001b[0m\u001b[1;33m(\u001b[0m\u001b[0mtest\u001b[0m\u001b[1;33m[\u001b[0m\u001b[0mtest\u001b[0m\u001b[1;33m[\u001b[0m\u001b[1;34m'well id'\u001b[0m\u001b[1;33m]\u001b[0m \u001b[1;33m==\u001b[0m \u001b[1;36m47\u001b[0m\u001b[1;33m]\u001b[0m\u001b[1;33m)\u001b[0m\u001b[1;33m\u001b[0m\u001b[1;33m\u001b[0m\u001b[0m\n\u001b[0m",
      "\u001b[1;32m<ipython-input-89-9ca34bf4a4d3>\u001b[0m in \u001b[0;36mpredict\u001b[1;34m(self, to_predict)\u001b[0m\n\u001b[0;32m     47\u001b[0m                 \u001b[0mfunc\u001b[0m \u001b[1;33m=\u001b[0m \u001b[1;32mlambda\u001b[0m \u001b[0mx\u001b[0m\u001b[1;33m:\u001b[0m \u001b[1;36m4.15\u001b[0m \u001b[1;33m*\u001b[0m \u001b[1;36m0.7\u001b[0m \u001b[1;33m*\u001b[0m \u001b[0msum\u001b[0m\u001b[1;33m(\u001b[0m\u001b[0mx\u001b[0m\u001b[1;33m)\u001b[0m \u001b[1;33m*\u001b[0m \u001b[1;36m0.085\u001b[0m \u001b[1;33m*\u001b[0m \u001b[1;36m100\u001b[0m \u001b[1;33m*\u001b[0m \u001b[1;36m860\u001b[0m \u001b[1;33m-\u001b[0m \u001b[0mcost\u001b[0m\u001b[1;33m\u001b[0m\u001b[1;33m\u001b[0m\u001b[0m\n\u001b[0;32m     48\u001b[0m                 \u001b[0mprint\u001b[0m\u001b[1;33m(\u001b[0m\u001b[0mdata_outputs\u001b[0m\u001b[1;33m,\u001b[0m \u001b[0my_test\u001b[0m\u001b[1;33m)\u001b[0m\u001b[1;33m\u001b[0m\u001b[1;33m\u001b[0m\u001b[0m\n\u001b[1;32m---> 49\u001b[1;33m                 \u001b[0mmoney\u001b[0m \u001b[1;33m=\u001b[0m \u001b[0mfunc\u001b[0m\u001b[1;33m(\u001b[0m\u001b[0mdata_outputs\u001b[0m \u001b[1;33m*\u001b[0m \u001b[0my_test\u001b[0m\u001b[1;33m)\u001b[0m \u001b[1;31m#смотрим, сколько по факту заработаем\u001b[0m\u001b[1;33m\u001b[0m\u001b[1;33m\u001b[0m\u001b[0m\n\u001b[0m\u001b[0;32m     50\u001b[0m                 \u001b[1;32mif\u001b[0m \u001b[0mprev_profit\u001b[0m \u001b[1;33m<\u001b[0m \u001b[0mmoney\u001b[0m\u001b[1;33m:\u001b[0m\u001b[1;33m\u001b[0m\u001b[1;33m\u001b[0m\u001b[0m\n\u001b[0;32m     51\u001b[0m                     \u001b[0mprev_profit\u001b[0m \u001b[1;33m=\u001b[0m \u001b[0mmoney\u001b[0m\u001b[1;33m\u001b[0m\u001b[1;33m\u001b[0m\u001b[0m\n",
      "\u001b[1;32m<ipython-input-89-9ca34bf4a4d3>\u001b[0m in \u001b[0;36m<lambda>\u001b[1;34m(x)\u001b[0m\n\u001b[0;32m     45\u001b[0m                 \u001b[0mdata_outputs\u001b[0m \u001b[1;33m=\u001b[0m \u001b[0mpd\u001b[0m\u001b[1;33m.\u001b[0m\u001b[0mSeries\u001b[0m\u001b[1;33m(\u001b[0m\u001b[0mtmp_clf\u001b[0m\u001b[1;33m.\u001b[0m\u001b[0mpredict\u001b[0m\u001b[1;33m(\u001b[0m\u001b[0mX_test\u001b[0m\u001b[1;33m[\u001b[0m\u001b[0mtaken_features\u001b[0m\u001b[1;33m]\u001b[0m\u001b[1;33m)\u001b[0m\u001b[1;33m)\u001b[0m\u001b[1;33m\u001b[0m\u001b[1;33m\u001b[0m\u001b[0m\n\u001b[0;32m     46\u001b[0m                 \u001b[0mcost\u001b[0m \u001b[1;33m+=\u001b[0m \u001b[0mself\u001b[0m\u001b[1;33m.\u001b[0m\u001b[0mdelta\u001b[0m \u001b[1;33m*\u001b[0m \u001b[0msensors_cost\u001b[0m\u001b[1;33m[\u001b[0m\u001b[0mfeature\u001b[0m\u001b[1;33m]\u001b[0m \u001b[1;33m*\u001b[0m \u001b[0mlen_test\u001b[0m \u001b[1;31m# сколько потратим на все скважины, почини\u001b[0m\u001b[1;33m\u001b[0m\u001b[1;33m\u001b[0m\u001b[0m\n\u001b[1;32m---> 47\u001b[1;33m                 \u001b[0mfunc\u001b[0m \u001b[1;33m=\u001b[0m \u001b[1;32mlambda\u001b[0m \u001b[0mx\u001b[0m\u001b[1;33m:\u001b[0m \u001b[1;36m4.15\u001b[0m \u001b[1;33m*\u001b[0m \u001b[1;36m0.7\u001b[0m \u001b[1;33m*\u001b[0m \u001b[0msum\u001b[0m\u001b[1;33m(\u001b[0m\u001b[0mx\u001b[0m\u001b[1;33m)\u001b[0m \u001b[1;33m*\u001b[0m \u001b[1;36m0.085\u001b[0m \u001b[1;33m*\u001b[0m \u001b[1;36m100\u001b[0m \u001b[1;33m*\u001b[0m \u001b[1;36m860\u001b[0m \u001b[1;33m-\u001b[0m \u001b[0mcost\u001b[0m\u001b[1;33m\u001b[0m\u001b[1;33m\u001b[0m\u001b[0m\n\u001b[0m\u001b[0;32m     48\u001b[0m                 \u001b[0mprint\u001b[0m\u001b[1;33m(\u001b[0m\u001b[0mdata_outputs\u001b[0m\u001b[1;33m,\u001b[0m \u001b[0my_test\u001b[0m\u001b[1;33m)\u001b[0m\u001b[1;33m\u001b[0m\u001b[1;33m\u001b[0m\u001b[0m\n\u001b[0;32m     49\u001b[0m                 \u001b[0mmoney\u001b[0m \u001b[1;33m=\u001b[0m \u001b[0mfunc\u001b[0m\u001b[1;33m(\u001b[0m\u001b[0mdata_outputs\u001b[0m \u001b[1;33m*\u001b[0m \u001b[0my_test\u001b[0m\u001b[1;33m)\u001b[0m \u001b[1;31m#смотрим, сколько по факту заработаем\u001b[0m\u001b[1;33m\u001b[0m\u001b[1;33m\u001b[0m\u001b[0m\n",
      "\u001b[1;31mTypeError\u001b[0m: unsupported operand type(s) for +: 'int' and 'str'"
     ]
    }
   ],
   "source": [
    "ololo = model.predict(test[test['well id'] == 47])"
   ]
  },
  {
   "cell_type": "code",
   "execution_count": null,
   "metadata": {},
   "outputs": [],
   "source": []
  }
 ],
 "metadata": {
  "kernelspec": {
   "display_name": "Python 3",
   "language": "python",
   "name": "python3"
  },
  "language_info": {
   "codemirror_mode": {
    "name": "ipython",
    "version": 3
   },
   "file_extension": ".py",
   "mimetype": "text/x-python",
   "name": "python",
   "nbconvert_exporter": "python",
   "pygments_lexer": "ipython3",
   "version": "3.7.3"
  }
 },
 "nbformat": 4,
 "nbformat_minor": 4
}
