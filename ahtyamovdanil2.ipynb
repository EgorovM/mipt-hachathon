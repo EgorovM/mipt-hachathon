{
 "cells": [
  {
   "cell_type": "code",
   "execution_count": 60,
   "metadata": {},
   "outputs": [],
   "source": [
    "import pandas as pd\n",
    "import numpy as np\n",
    "import matplotlib.pyplot as plt\n",
    "import seaborn as sns\n",
    "import catboost as cb\n",
    "from sklearn.metrics import f1_score\n",
    "from sklearn.model_selection import cross_val_score, cross_val_predict\n",
    "from sklearn.model_selection import train_test_split\n",
    "from sklearn import preprocessing\n",
    "import tqdm"
   ]
  },
  {
   "cell_type": "code",
   "execution_count": 329,
   "metadata": {},
   "outputs": [],
   "source": [
    "df_train = pd.read_excel('train.xlsx')\n",
    "df_test = pd.read_excel('test.xlsx')\n",
    "df_result = pd.read_excel('result.xlsx')"
   ]
  },
  {
   "cell_type": "code",
   "execution_count": 330,
   "metadata": {},
   "outputs": [],
   "source": [
    "df_train = df_train[df_train['well id'] != 156]\n",
    "df_train.fillna(-1, inplace = True)\n",
    "delta = 300"
   ]
  },
  {
   "cell_type": "code",
   "execution_count": 291,
   "metadata": {},
   "outputs": [
    {
     "data": {
      "application/vnd.jupyter.widget-view+json": {
       "model_id": "ea779d67ad91425fb7c722738ea95a6a",
       "version_major": 2,
       "version_minor": 0
      },
      "text/plain": [
       "HBox(children=(IntProgress(value=0, max=7), HTML(value='')))"
      ]
     },
     "metadata": {},
     "output_type": "display_data"
    },
    {
     "name": "stdout",
     "output_type": "stream",
     "text": [
      "0.9310696095076402\n",
      "0.8968499073502161\n",
      "0.8869936034115138\n",
      "0.8161400837457176\n",
      "0.7957221173721578\n",
      "0.775177210111007\n",
      "0.7708408516780947\n"
     ]
    }
   ],
   "source": [
    "features = list()\n",
    "\n",
    "for min_depth in tqdm.tqdm_notebook(range(1000, int(max(df_train[\"depth, m\"])), delta)):\n",
    "    df = df_train[(df_train[\"depth, m\"] > min_depth) & (df_train[\"depth, m\"] < min_depth + delta)]\n",
    "    \n",
    "    target = df[\"goal\"]\n",
    "    train = df.drop(['goal', 'lith', 'well id'], axis = 1)\n",
    "\n",
    "    X_train, X_test, y_train, y_test = train_test_split(train, target, random_state = 42,test_size = 0.25)\n",
    "\n",
    "    clf = cb.CatBoostClassifier(random_seed=42, logging_level='Silent')\n",
    "    clf = clf.fit(X_train, y_train)\n",
    "\n",
    "    data_outputs = clf.predict(X_test)\n",
    "\n",
    "    importances = clf.feature_importances_\n",
    "    \n",
    "    features.append(importances)\n",
    "    \n",
    "\n",
    "    print(f1_score(y_test, data_outputs))\n",
    "    \n",
    "features = np.array(features)"
   ]
  },
  {
   "cell_type": "code",
   "execution_count": 292,
   "metadata": {},
   "outputs": [
    {
     "data": {
      "text/plain": [
       "<matplotlib.axes._subplots.AxesSubplot at 0x7f19338bacc0>"
      ]
     },
     "execution_count": 292,
     "metadata": {},
     "output_type": "execute_result"
    },
    {
     "data": {
      "image/png": "[encoded data removed]",
      "text/plain": [
       "<Figure size 1008x504 with 2 Axes>"
      ]
     },
     "metadata": {
      "needs_background": "light"
     },
     "output_type": "display_data"
    }
   ],
   "source": [
    "plt.figure(figsize=(14,7))\n",
    "t = lambda x: \"\".join(str(a) for a in x)\n",
    "sns.heatmap(features[:,1:], cmap='coolwarm', xticklabels=train.columns[1:],\n",
    "            yticklabels=[t([item, ' - ', item+300]) for item in range(1000, int(max(df_train[\"depth, m\"])), delta)])"
   ]
  },
  {
   "cell_type": "code",
   "execution_count": 336,
   "metadata": {},
   "outputs": [],
   "source": [
    "def set_scanners(df, bound, features, test=False):\n",
    "    delta = 300;\n",
    "    bit_features = features < 10\n",
    "    if(test):\n",
    "        left = 2\n",
    "        right = None\n",
    "    else:\n",
    "        left = 1\n",
    "        right = -2\n",
    "    for i, low_depth in enumerate(tqdm.tqdm_notebook(range(1000, int(max(df[\"depth, m\"])), 300))):\n",
    "        indexes = df[(df_train[\"depth, m\"] > low_depth) & (df[\"depth, m\"] < low_depth + delta)].index\n",
    "        for j, col in enumerate(df.loc[indexes].columns[left:right]):\n",
    "            if(bit_features[i][j]):\n",
    "                df.loc[indexes, col] = -1"
   ]
  },
  {
   "cell_type": "code",
   "execution_count": 337,
   "metadata": {},
   "outputs": [
    {
     "data": {
      "application/vnd.jupyter.widget-view+json": {
       "model_id": "aa4780e981594b9489223ecd98328d6e",
       "version_major": 2,
       "version_minor": 0
      },
      "text/plain": [
       "HBox(children=(IntProgress(value=0, max=7), HTML(value='')))"
      ]
     },
     "metadata": {},
     "output_type": "display_data"
    }
   ],
   "source": [
    "set_scanners(df_train, 10, features)"
   ]
  },
  {
   "cell_type": "code",
   "execution_count": 339,
   "metadata": {},
   "outputs": [
    {
     "data": {
      "application/vnd.jupyter.widget-view+json": {
       "model_id": "abf7f06edebd4423ab0cc236a401f653",
       "version_major": 2,
       "version_minor": 0
      },
      "text/plain": [
       "HBox(children=(IntProgress(value=0, max=6), HTML(value='')))"
      ]
     },
     "metadata": {},
     "output_type": "display_data"
    },
    {
     "name": "stderr",
     "output_type": "stream",
     "text": [
      "/home/mirror/anaconda3/envs/my_env/lib/python3.7/site-packages/ipykernel_launcher.py:11: UserWarning: Boolean Series key will be reindexed to match DataFrame index.\n",
      "  # This is added back by InteractiveShellApp.init_path()\n",
      "/home/mirror/anaconda3/envs/my_env/lib/python3.7/site-packages/ipykernel_launcher.py:11: UserWarning: Boolean Series key will be reindexed to match DataFrame index.\n",
      "  # This is added back by InteractiveShellApp.init_path()\n",
      "/home/mirror/anaconda3/envs/my_env/lib/python3.7/site-packages/ipykernel_launcher.py:11: UserWarning: Boolean Series key will be reindexed to match DataFrame index.\n",
      "  # This is added back by InteractiveShellApp.init_path()\n",
      "/home/mirror/anaconda3/envs/my_env/lib/python3.7/site-packages/ipykernel_launcher.py:11: UserWarning: Boolean Series key will be reindexed to match DataFrame index.\n",
      "  # This is added back by InteractiveShellApp.init_path()\n",
      "/home/mirror/anaconda3/envs/my_env/lib/python3.7/site-packages/ipykernel_launcher.py:11: UserWarning: Boolean Series key will be reindexed to match DataFrame index.\n",
      "  # This is added back by InteractiveShellApp.init_path()\n",
      "/home/mirror/anaconda3/envs/my_env/lib/python3.7/site-packages/ipykernel_launcher.py:11: UserWarning: Boolean Series key will be reindexed to match DataFrame index.\n",
      "  # This is added back by InteractiveShellApp.init_path()\n"
     ]
    }
   ],
   "source": [
    "set_scanners(df_test, 10, features, test=True)"
   ]
  },
  {
   "cell_type": "code",
   "execution_count": null,
   "metadata": {},
   "outputs": [],
   "source": [
    "#not done yet\n",
    "\n",
    "target = df[\"goal\"]\n",
    "train = df.drop(['goal', 'lith', 'well id'], axis = 1)\n",
    "\n",
    "X_train, X_test, y_train, y_test = train_test_split(train, target, random_state = 42,test_size = 0.25)\n",
    "\n",
    "clf = cb.CatBoostClassifier(random_seed=42, \n",
    "                            logging_level='Silent',\n",
    "                            l2_leaf_reg=10, \n",
    "                            od_type = \"Iter\",\n",
    "                            od_wait = 50)\n",
    "clf = clf.fit(X_train, y_train)\n",
    "\n",
    "data_outputs = clf.predict(X_test)\n",
    "#importances = clf.feature_importances_\n",
    "features.append(importances)\n",
    "\n",
    "print(f1_score(y_test, data_outputs),' ', y_test.shape[0]/y_train.shape[0])\n",
    "\n",
    "return clf"
   ]
  },
  {
   "cell_type": "code",
   "execution_count": null,
   "metadata": {},
   "outputs": [],
   "source": []
  }
 ],
 "metadata": {
  "kernelspec": {
   "display_name": "Python (myenv)",
   "language": "python",
   "name": "myenv"
  },
  "language_info": {
   "codemirror_mode": {
    "name": "ipython",
    "version": 3
   },
   "file_extension": ".py",
   "mimetype": "text/x-python",
   "name": "python",
   "nbconvert_exporter": "python",
   "pygments_lexer": "ipython3",
   "version": "3.7.1"
  }
 },
 "nbformat": 4,
 "nbformat_minor": 2
}
