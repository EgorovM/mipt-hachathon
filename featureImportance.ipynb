{
 "cells": [
  {
   "cell_type": "code",
   "execution_count": 52,
   "metadata": {},
   "outputs": [],
   "source": [
    "import matplotlib.pyplot as plt\n",
    "import pandas as pd\n",
    "import numpy as np\n",
    "\n",
    "from sklearn import preprocessing\n",
    "from sklearn.model_selection import train_test_split\n",
    "from sklearn.metrics import f1_score\n",
    "\n",
    "import seaborn as sns"
   ]
  },
  {
   "cell_type": "code",
   "execution_count": 46,
   "metadata": {},
   "outputs": [],
   "source": [
    "data = pd.read_excel(\"Data/train.xlsx\")"
   ]
  },
  {
   "cell_type": "code",
   "execution_count": 47,
   "metadata": {},
   "outputs": [],
   "source": [
    "data = data[np.isnan(data[\"well id\"]) != True]\n",
    "data = data[np.isnan(data[\"goal\"]) != True]"
   ]
  },
  {
   "cell_type": "code",
   "execution_count": 50,
   "metadata": {},
   "outputs": [],
   "source": [
    "data = data.fillna(-1)\n",
    "delta = 200"
   ]
  },
  {
   "cell_type": "code",
   "execution_count": 66,
   "metadata": {},
   "outputs": [],
   "source": [
    "df = data[(data[\"depth, m\"] > min_depth) & (data[\"depth, m\"] < min_depth + delta)]\n",
    "    \n",
    "target = df[\"goal\"]\n",
    "train = df.drop(\"goal\", axis = 1)\n",
    "train = train.drop(\"lith\", axis = 1)\n",
    "train = train.drop(\"well id\", axis = 1)"
   ]
  },
  {
   "cell_type": "code",
   "execution_count": 74,
   "metadata": {},
   "outputs": [
    {
     "name": "stdout",
     "output_type": "stream",
     "text": [
      "0.9224237746043998\n",
      "0.8729001584786054\n",
      "0.8132260947274352\n",
      "0.8238805970149253\n",
      "0.8538283062645011\n",
      "0.8446969696969697\n",
      "0.8163487738419619\n",
      "0.8507936507936508\n",
      "0.8153846153846154\n",
      "0.7987841945288755\n",
      "0.7064559019057468\n",
      "0.7091831452531319\n",
      "0.7275854654912922\n",
      "0.714662340296086\n",
      "0.6997020854021848\n",
      "0.6858934169278996\n",
      "0.6977518734388011\n",
      "0.6805302833376657\n",
      "0.6407112201103619\n",
      "0.6442244224422441\n",
      "0.8220858895705522\n",
      "0.7741935483870968\n"
     ]
    }
   ],
   "source": [
    "features = list()\n",
    "\n",
    "for min_depth in range(1000, int(max(data[\"depth, m\"])), 100):\n",
    "    df = data[(data[\"depth, m\"] > min_depth) & (data[\"depth, m\"] < min_depth + delta)]\n",
    "    \n",
    "    target = df[\"goal\"]\n",
    "    train = df.drop(\"goal\", axis = 1)\n",
    "    train = train.drop(\"lith\", axis = 1)\n",
    "    train = train.drop(\"well id\", axis = 1)\n",
    "\n",
    "    X_train, X_test, y_train, y_test = train_test_split(train, target, test_size = 0.33)\n",
    "\n",
    "    scaler = preprocessing.StandardScaler()\n",
    "    scaler.fit(X_train)\n",
    "\n",
    "    X_train = scaler.transform(X_train)\n",
    "    X_test = scaler.transform(X_test)\n",
    "\n",
    "    from sklearn.ensemble import GradientBoostingClassifier\n",
    "    clf = GradientBoostingClassifier(n_estimators=200)\n",
    "    clf = clf.fit(X_train, y_train)\n",
    "\n",
    "    data_outputs = clf.predict(X_test)\n",
    "\n",
    "    importances = clf.feature_importances_\n",
    "    \n",
    "    features.append(importances[1:])\n",
    "    \n",
    "\n",
    "    print(f1_score(y_test, data_outputs))\n",
    "    \n",
    "features = np.array(features)"
   ]
  },
  {
   "cell_type": "code",
   "execution_count": 76,
   "metadata": {},
   "outputs": [
    {
     "data": {
      "text/plain": [
       "<matplotlib.axes._subplots.AxesSubplot at 0x130ddbe50>"
      ]
     },
     "execution_count": 76,
     "metadata": {},
     "output_type": "execute_result"
    },
    {
     "data": {
      "image/png": "[encoded data removed]",
      "text/plain": [
       "<Figure size 1440x432 with 2 Axes>"
      ]
     },
     "metadata": {
      "needs_background": "light"
     },
     "output_type": "display_data"
    }
   ],
   "source": [
    "plt.figure(figsize = (20, 6))\n",
    "sns.heatmap(features, xticklabels = df.columns[2:-2])"
   ]
  },
  {
   "cell_type": "code",
   "execution_count": 55,
   "metadata": {},
   "outputs": [],
   "source": [
    "usable = train.columns[indices[-7:]]"
   ]
  },
  {
   "cell_type": "code",
   "execution_count": 32,
   "metadata": {},
   "outputs": [
    {
     "data": {
      "text/plain": [
       "Index(['GZ2', 'NKTD', 'NKTR', 'NKTM', 'GZ5', 'GZ7', 'GZ4'], dtype='object')"
      ]
     },
     "execution_count": 32,
     "metadata": {},
     "output_type": "execute_result"
    }
   ],
   "source": [
    "usable"
   ]
  },
  {
   "cell_type": "code",
   "execution_count": 35,
   "metadata": {},
   "outputs": [],
   "source": [
    "for par in usable:\n",
    "    data = data.drop(par, axis = 1)"
   ]
  },
  {
   "cell_type": "code",
   "execution_count": 44,
   "metadata": {},
   "outputs": [
    {
     "name": "stdout",
     "output_type": "stream",
     "text": [
      "Accuracy: 0.91 (+/- 0.00)\n"
     ]
    }
   ],
   "source": [
    "from sklearn.model_selection import cross_val_score\n",
    "scores = cross_val_score(clf, X_test, y_test, cv=5)\n",
    "print(\"Accuracy: %0.2f (+/- %0.2f)\" % (scores.mean(), scores.std() * 2))"
   ]
  },
  {
   "cell_type": "code",
   "execution_count": null,
   "metadata": {},
   "outputs": [],
   "source": []
  }
 ],
 "metadata": {
  "kernelspec": {
   "display_name": "cs102",
   "language": "python",
   "name": "cs102"
  },
  "language_info": {
   "codemirror_mode": {
    "name": "ipython",
    "version": 3
   },
   "file_extension": ".py",
   "mimetype": "text/x-python",
   "name": "python",
   "nbconvert_exporter": "python",
   "pygments_lexer": "ipython3",
   "version": "3.7.4"
  }
 },
 "nbformat": 4,
 "nbformat_minor": 4
}
